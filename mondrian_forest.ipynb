{
 "cells": [
  {
   "cell_type": "code",
   "execution_count": null,
   "metadata": {},
   "outputs": [],
   "source": [
    "# imports\n",
    "import os\n",
    "import time\n",
    "import matplotlib.pyplot as plt\n",
    "import numpy as np\n",
    "import warnings\n",
    "from sklearn import model_selection\n",
    "warnings.filterwarnings('ignore')\n",
    "path_to_append = os.path.abspath('../')\n",
    "if path_to_append not in sys.path:\n",
    "    sys.path.append(path_to_append)\n",
    "import data_utils as util\n",
    "import randomforests as rf\n",
    "import data_utils as util"
   ]
  },
  {
   "cell_type": "code",
   "execution_count": 9,
   "metadata": {},
   "outputs": [],
   "source": [
    "# Prepare data \n",
    "X, y = util.prepare_data_csv(\"grape.csv\", 0)\n",
    "shuffle = np.random.permutation(len(X))\n",
    "X = X.to_numpy().astype(float)[shuffle]\n",
    "y = y.to_numpy().astype(np.uint8)[shuffle]\n",
    "\n",
    "X_train, X_test, y_train, y_test = model_selection.train_test_split(X, y, test_size=.2)"
   ]
  },
  {
   "cell_type": "code",
   "execution_count": null,
   "metadata": {},
   "outputs": [],
   "source": [
    "# Grow forest\n",
    "start = time.time()\n",
    "# Use 'bagging' or 'boosting' or None\n",
    "clf = rf.MondrianForestClassifier(n_tree=8, aggregation_technique='bagging')\n",
    "clf.fit(X_train, y_train)\n",
    "end = time.time()"
   ]
  },
  {
   "cell_type": "code",
   "execution_count": 11,
   "metadata": {},
   "outputs": [],
   "source": [
    "# Test forest\n",
    "probs = clf.predict_proba(X_test)\n",
    "pred = [prob.argmax() for prob in probs]\n",
    "conf = [max(prob) for prob in probs]"
   ]
  },
  {
   "cell_type": "code",
   "execution_count": 12,
   "metadata": {},
   "outputs": [
    {
     "name": "stdout",
     "output_type": "stream",
     "text": [
      "Accuracy:  0.911\n",
      "Precision:  0.9203268641470889\n",
      "Recall:  0.9000999000999002\n",
      "AUC:  0.9693424693424693\n",
      "Training Time:  20.46859860420227\n"
     ]
    }
   ],
   "source": [
    "# Evaluate results\n",
    "print(\"Accuracy: \",util.accuracy(y_test, np.array(pred)))\n",
    "print(\"Precision: \",util.precision(y_test, np.array(pred)))\n",
    "print(\"Recall: \",util.recall(y_test, np.array(pred)))\n",
    "print(\"AUC: \", util.auc(y_test, probs[:,1]))\n",
    "print(\"Training Time: \", end-start)\n"
   ]
  }
 ],
 "metadata": {
  "kernelspec": {
   "display_name": "Python 3.10.8 64-bit",
   "language": "python",
   "name": "python3"
  },
  "language_info": {
   "codemirror_mode": {
    "name": "ipython",
    "version": 3
   },
   "file_extension": ".py",
   "mimetype": "text/x-python",
   "name": "python",
   "nbconvert_exporter": "python",
   "pygments_lexer": "ipython3",
   "version": "3.10.8"
  },
  "orig_nbformat": 4,
  "vscode": {
   "interpreter": {
    "hash": "7dece438061d77ad4af5befad1fc0f0bd0321126e9bcead865e9783a682176da"
   }
  }
 },
 "nbformat": 4,
 "nbformat_minor": 2
}
